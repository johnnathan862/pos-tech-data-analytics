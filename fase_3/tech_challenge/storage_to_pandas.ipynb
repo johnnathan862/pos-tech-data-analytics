{
 "cells": [
  {
   "cell_type": "code",
   "execution_count": 4,
   "metadata": {},
   "outputs": [],
   "source": [
    "import pandas as pd\n",
    "import gcsfs\n",
    "from google.oauth2 import service_account"
   ]
  },
  {
   "cell_type": "code",
   "execution_count": 5,
   "metadata": {},
   "outputs": [],
   "source": [
    "\n",
    "# Objetivo com as credenciais\n",
    "credentials = service_account.Credentials.from_service_account_file(\n",
    "    filename='credentials_gcp_postech_v4.json',\n",
    "    scopes=['https://www.googleapis.com/auth/bigquery','https://www.googleapis.com/auth/cloud-platform']\n",
    ")\n"
   ]
  },
  {
   "cell_type": "code",
   "execution_count": 6,
   "metadata": {},
   "outputs": [],
   "source": [
    "# # Set the GCS bucket and file path\n",
    "# bucket_name = 'datascience-postech' \n",
    "# file_path = 'file_test.csv'\n",
    "\n",
    "# # Create a file system instance\n",
    "# fs = gcsfs.GCSFileSystem(token=credentials)\n",
    "\n",
    "# # Open the file from GCS and read it into a Pandas DataFrame\n",
    "# with fs.open(f'{bucket_name}/{file_path}') as f:\n",
    "#     df = pd.read_csv(f)\n",
    "\n",
    "# # Now df contains your data as a Pandas DataFrame\n"
   ]
  },
  {
   "cell_type": "code",
   "execution_count": 35,
   "metadata": {},
   "outputs": [],
   "source": [
    "# Lendo um arquivo da Google Storage\n",
    "df_2 = pd.read_csv(\"gs://datascience-postech/file_test.csv\", storage_options={'token':credentials})"
   ]
  },
  {
   "cell_type": "code",
   "execution_count": 36,
   "metadata": {},
   "outputs": [],
   "source": [
    "from google.cloud import bigquery\n",
    "import pandas as pd\n",
    "\n",
    "def pandas_to_bq_schema(df):\n",
    "    \"\"\"\n",
    "    Convert Pandas DataFrame dtypes to BigQuery schema.\n",
    "\n",
    "    Args:\n",
    "        df (pd.DataFrame): Pandas DataFrame.\n",
    "\n",
    "    Returns:\n",
    "        list: List of bigquery.SchemaField objects representing the schema.\n",
    "    \"\"\"\n",
    "    bq_schema = []\n",
    "    for column_name, dtype in df.dtypes.items():\n",
    "        if dtype == 'object':\n",
    "            field_type = 'STRING'\n",
    "        elif dtype == 'int64':\n",
    "            field_type = 'INTEGER'\n",
    "        elif dtype == 'float64':\n",
    "            field_type = 'FLOAT'\n",
    "        elif dtype == 'bool':\n",
    "            field_type = 'BOOLEAN'\n",
    "        else:\n",
    "            # Add more mappings if needed for other data types\n",
    "            raise ValueError(f\"Unsupported dtype: {dtype}\")\n",
    "        \n",
    "        bq_schema.append(bigquery.SchemaField(name=column_name, field_type=field_type))\n",
    "\n",
    "    return bq_schema"
   ]
  },
  {
   "cell_type": "code",
   "execution_count": 37,
   "metadata": {},
   "outputs": [
    {
     "data": {
      "text/plain": [
       "[SchemaField('userd_id', 'INTEGER', 'NULLABLE', None, None, (), None),\n",
       " SchemaField('product_id', 'INTEGER', 'NULLABLE', None, None, (), None)]"
      ]
     },
     "execution_count": 37,
     "metadata": {},
     "output_type": "execute_result"
    }
   ],
   "source": [
    "pandas_to_bq_schema(df_2)"
   ]
  },
  {
   "cell_type": "code",
   "execution_count": null,
   "metadata": {},
   "outputs": [],
   "source": []
  }
 ],
 "metadata": {
  "kernelspec": {
   "display_name": "venv_pos_tech",
   "language": "python",
   "name": "python3"
  },
  "language_info": {
   "codemirror_mode": {
    "name": "ipython",
    "version": 3
   },
   "file_extension": ".py",
   "mimetype": "text/x-python",
   "name": "python",
   "nbconvert_exporter": "python",
   "pygments_lexer": "ipython3",
   "version": "3.10.12"
  }
 },
 "nbformat": 4,
 "nbformat_minor": 2
}

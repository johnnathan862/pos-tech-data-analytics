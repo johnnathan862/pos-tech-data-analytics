{
 "cells": [
  {
   "cell_type": "code",
   "execution_count": 23,
   "metadata": {},
   "outputs": [],
   "source": [
    "from google.cloud import storage\n",
    "from google.oauth2 import service_account\n",
    "import os\n",
    "import pathlib\n",
    "from libraries.GCStorage import *"
   ]
  },
  {
   "cell_type": "code",
   "execution_count": 24,
   "metadata": {},
   "outputs": [],
   "source": [
    "# Parametros\n",
    "diretorio = pathlib.Path.cwd()\n",
    "files_folder = diretorio.joinpath('dados')\n",
    "bucket_name = 'datascience-postech' #'test-postech'"
   ]
  },
  {
   "cell_type": "code",
   "execution_count": 25,
   "metadata": {},
   "outputs": [],
   "source": [
    "# Objetivo com as credenciais\n",
    "credentials = service_account.Credentials.from_service_account_file(\n",
    "    filename='credentials_gcp_postech_v4.json',\n",
    "    scopes=['https://www.googleapis.com/auth/bigquery','https://www.googleapis.com/auth/cloud-platform']\n",
    ")"
   ]
  },
  {
   "cell_type": "code",
   "execution_count": 26,
   "metadata": {},
   "outputs": [],
   "source": [
    "storage_client = storage.Client(credentials=credentials)\n",
    "gcs = GCStorage(storage_client)"
   ]
  },
  {
   "cell_type": "code",
   "execution_count": 27,
   "metadata": {},
   "outputs": [],
   "source": [
    "# Criando bucket se ele não existir\n",
    "if bucket_name not in gcs.list_buckets():\n",
    "    bucket_gcs = gcs.create_bucket(bucket_name=bucket_name, storage_class=STORAGE_CLASSES[0])\n",
    "else:\n",
    "    bucket_gcs = gcs.get_bucket(bucket_name=bucket_name)"
   ]
  },
  {
   "cell_type": "code",
   "execution_count": 28,
   "metadata": {},
   "outputs": [],
   "source": [
    "# Lista de CSV's\n",
    "ls_files_csv = ['dados/'+file for file in os.listdir('dados/') if file.endswith(\".csv\")]"
   ]
  },
  {
   "cell_type": "code",
   "execution_count": 30,
   "metadata": {},
   "outputs": [],
   "source": [
    "# Upload de arquivos para o bucket\n",
    "for f in files_folder.glob(\"*.csv\"):\n",
    "    gcs.upload_file(bucket=bucket_gcs, blob_destination=f.name, file_path=str(f))"
   ]
  },
  {
   "cell_type": "code",
   "execution_count": null,
   "metadata": {},
   "outputs": [],
   "source": []
  }
 ],
 "metadata": {
  "kernelspec": {
   "display_name": "venv_pos_tech",
   "language": "python",
   "name": "python3"
  },
  "language_info": {
   "codemirror_mode": {
    "name": "ipython",
    "version": 3
   },
   "file_extension": ".py",
   "mimetype": "text/x-python",
   "name": "python",
   "nbconvert_exporter": "python",
   "pygments_lexer": "ipython3",
   "version": "3.10.12"
  }
 },
 "nbformat": 4,
 "nbformat_minor": 2
}

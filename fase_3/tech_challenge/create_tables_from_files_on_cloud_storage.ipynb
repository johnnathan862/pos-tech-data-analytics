{
 "cells": [
  {
   "cell_type": "code",
   "execution_count": 15,
   "metadata": {},
   "outputs": [],
   "source": [
    "from google.cloud import storage\n",
    "from google.oauth2 import service_account\n",
    "from google.cloud import bigquery\n",
    "import os\n",
    "import pathlib\n",
    "from libraries.GCStorage import *\n",
    "from libraries.CreateBigqueryTables import *"
   ]
  },
  {
   "cell_type": "markdown",
   "metadata": {},
   "source": [
    "# Setup"
   ]
  },
  {
   "cell_type": "code",
   "execution_count": 16,
   "metadata": {},
   "outputs": [],
   "source": [
    "# Parametros\n",
    "bucket_name = 'datascience-postech' #'test-postech'\n",
    "project_id = 'pos-tech-project'\n",
    "dataset='pnad'"
   ]
  },
  {
   "cell_type": "code",
   "execution_count": 17,
   "metadata": {},
   "outputs": [],
   "source": [
    "# Objetivo com as credenciais\n",
    "credentials = service_account.Credentials.from_service_account_file(\n",
    "    filename='credentials_gcp_postech_v4.json',\n",
    "    scopes=['https://www.googleapis.com/auth/bigquery','https://www.googleapis.com/auth/cloud-platform']\n",
    ")\n",
    "\n",
    "# Criando bigquery client\n",
    "bigquery_client = bigquery.Client(credentials=credentials)\n",
    "\n",
    "# Criando Storage client\n",
    "storage_client = storage.Client(credentials=credentials)"
   ]
  },
  {
   "cell_type": "markdown",
   "metadata": {},
   "source": [
    "# Listando arquivos no bucket"
   ]
  },
  {
   "cell_type": "code",
   "execution_count": 18,
   "metadata": {},
   "outputs": [
    {
     "data": {
      "text/plain": [
       "['PNAD_COVID_052020.csv',\n",
       " 'PNAD_COVID_062020.csv',\n",
       " 'PNAD_COVID_072020.csv',\n",
       " 'PNAD_COVID_082020.csv',\n",
       " 'PNAD_COVID_092020.csv',\n",
       " 'PNAD_COVID_102020.csv',\n",
       " 'PNAD_COVID_112020.csv']"
      ]
     },
     "execution_count": 18,
     "metadata": {},
     "output_type": "execute_result"
    }
   ],
   "source": [
    "gcs = GCStorage(storage_client=storage_client)\n",
    "\n",
    "# # Coletando bucket\n",
    "# bucket_gcs = gcs.get_bucket(bucket_name=bucket_name)\n",
    "\n",
    "# Lista de arquivos no bucket\n",
    "files_on_bucket = gcs.list_blobs(bucket_name=bucket_name)\n",
    "files_on_bucket"
   ]
  },
  {
   "cell_type": "markdown",
   "metadata": {},
   "source": [
    "# Criando tabelas no BigQuery"
   ]
  },
  {
   "cell_type": "code",
   "execution_count": 19,
   "metadata": {},
   "outputs": [
    {
     "name": "stdout",
     "output_type": "stream",
     "text": [
      "Dataset pnad created.\n",
      "table pnad_covid_052020 created.\n",
      "table pos-tech-project.pnad.pnad_covid_052020 created\n",
      "Dataset Dataset(DatasetReference('pos-tech-project', 'pnad')) already exists.\n",
      "table pnad_covid_062020 created.\n",
      "table pos-tech-project.pnad.pnad_covid_062020 created\n",
      "Dataset Dataset(DatasetReference('pos-tech-project', 'pnad')) already exists.\n",
      "table pnad_covid_072020 created.\n",
      "table pos-tech-project.pnad.pnad_covid_072020 created\n",
      "Dataset Dataset(DatasetReference('pos-tech-project', 'pnad')) already exists.\n",
      "table pnad_covid_082020 created.\n",
      "table pos-tech-project.pnad.pnad_covid_082020 created\n",
      "Dataset Dataset(DatasetReference('pos-tech-project', 'pnad')) already exists.\n",
      "table pnad_covid_092020 created.\n",
      "table pos-tech-project.pnad.pnad_covid_092020 created\n",
      "Dataset Dataset(DatasetReference('pos-tech-project', 'pnad')) already exists.\n",
      "table pnad_covid_102020 created.\n",
      "table pos-tech-project.pnad.pnad_covid_102020 created\n",
      "Dataset Dataset(DatasetReference('pos-tech-project', 'pnad')) already exists.\n",
      "table pnad_covid_112020 created.\n",
      "table pos-tech-project.pnad.pnad_covid_112020 created\n"
     ]
    }
   ],
   "source": [
    "ctb = CreateBigqueryTables(bigquery_client)\n",
    "\n",
    "for f in files_on_bucket:\n",
    "    table_name = f.lower().split('.')[0]\n",
    "    gcs_uri = f'gs://{bucket_name}/{f}'\n",
    "\n",
    "    ctb.create_and_load_table_bigquery(gcs_uri, dataset, table_name)\n",
    "    print(f\"table {project_id}.{dataset}.{table_name} created\")\n"
   ]
  }
 ],
 "metadata": {
  "kernelspec": {
   "display_name": "venv_pos_tech",
   "language": "python",
   "name": "python3"
  },
  "language_info": {
   "codemirror_mode": {
    "name": "ipython",
    "version": 3
   },
   "file_extension": ".py",
   "mimetype": "text/x-python",
   "name": "python",
   "nbconvert_exporter": "python",
   "pygments_lexer": "ipython3",
   "version": "3.10.12"
  }
 },
 "nbformat": 4,
 "nbformat_minor": 2
}

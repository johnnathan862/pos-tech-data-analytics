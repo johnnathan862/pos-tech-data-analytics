{
 "cells": [
  {
   "cell_type": "markdown",
   "metadata": {},
   "source": [
    "# Set-up"
   ]
  },
  {
   "cell_type": "code",
   "execution_count": 196,
   "metadata": {},
   "outputs": [],
   "source": [
    "from google.cloud import bigquery\n",
    "from google.oauth2 import service_account\n",
    "\n",
    "import pandas as pd\n",
    "import pandas_gbq\n",
    "import numpy as np\n",
    "import matplotlib.pyplot as plt\n",
    "import seaborn as sns"
   ]
  },
  {
   "cell_type": "code",
   "execution_count": 2,
   "metadata": {},
   "outputs": [],
   "source": [
    "# Objetivo com as credenciais\n",
    "credentials = service_account.Credentials.from_service_account_file(\n",
    "    filename='credentials_gcp_postech_v4.json',\n",
    "    scopes=['https://www.googleapis.com/auth/bigquery']\n",
    ")"
   ]
  },
  {
   "cell_type": "markdown",
   "metadata": {},
   "source": [
    "# Funções"
   ]
  },
  {
   "cell_type": "code",
   "execution_count": 3,
   "metadata": {},
   "outputs": [],
   "source": [
    "def table_porc(df, groupBy, groupToTotal, colToCount='UF'):\n",
    "    tab = df.groupby(groupBy).agg({colToCount:'count'}).rename(columns={colToCount:'qtd_quest'})\n",
    "    tab['Total on groupToTotal'] = tab.groupby(groupToTotal).qtd_quest.transform(np.sum) \n",
    "    tab['%'] = round((tab['qtd_quest'] / tab['Total on groupToTotal']) * 100, 2)\n",
    "    return tab"
   ]
  },
  {
   "cell_type": "markdown",
   "metadata": {},
   "source": [
    "# Leitura de dados"
   ]
  },
  {
   "cell_type": "code",
   "execution_count": 4,
   "metadata": {},
   "outputs": [
    {
     "name": "stdout",
     "output_type": "stream",
     "text": [
      "Downloading: 100%|\u001b[32m██████████\u001b[0m|\n"
     ]
    }
   ],
   "source": [
    "project_id='pos-tech-project'\n",
    "dataset='pnad'\n",
    "table_name='analytic_nov_out'\n",
    "\n",
    "df =  pandas_gbq.read_gbq(credentials=credentials, query_or_table=f\"{project_id}.{dataset}.{table_name}\")"
   ]
  },
  {
   "cell_type": "code",
   "execution_count": 5,
   "metadata": {},
   "outputs": [
    {
     "data": {
      "text/plain": [
       "Ano                0\n",
       "mes                0\n",
       "UF                 0\n",
       "CAPITAL       581552\n",
       "A002               0\n",
       "               ...  \n",
       "C007D_desc    473969\n",
       "C010_desc     471459\n",
       "C013_desc     730188\n",
       "E001_desc          0\n",
       "F001_desc          0\n",
       "Length: 91, dtype: int64"
      ]
     },
     "execution_count": 5,
     "metadata": {},
     "output_type": "execute_result"
    }
   ],
   "source": [
    "# Checando NULLS\n",
    "df.isna().sum()"
   ]
  },
  {
   "cell_type": "markdown",
   "metadata": {},
   "source": [
    "# Porcentagem de questionário que realizaram teste"
   ]
  },
  {
   "cell_type": "code",
   "execution_count": 6,
   "metadata": {},
   "outputs": [
    {
     "name": "stderr",
     "output_type": "stream",
     "text": [
      "/tmp/ipykernel_16241/1363353374.py:3: FutureWarning: The provided callable <function sum at 0x758917594160> is currently using SeriesGroupBy.sum. In a future version of pandas, the provided callable will be used directly. To keep current behavior pass the string \"sum\" instead.\n",
      "  tab['Total on groupToTotal'] = tab.groupby(groupToTotal).qtd_quest.transform(np.sum)\n"
     ]
    },
    {
     "data": {
      "text/html": [
       "<div>\n",
       "<style scoped>\n",
       "    .dataframe tbody tr th:only-of-type {\n",
       "        vertical-align: middle;\n",
       "    }\n",
       "\n",
       "    .dataframe tbody tr th {\n",
       "        vertical-align: top;\n",
       "    }\n",
       "\n",
       "    .dataframe thead th {\n",
       "        text-align: right;\n",
       "    }\n",
       "</style>\n",
       "<table border=\"1\" class=\"dataframe\">\n",
       "  <thead>\n",
       "    <tr style=\"text-align: right;\">\n",
       "      <th></th>\n",
       "      <th></th>\n",
       "      <th></th>\n",
       "      <th>qtd_quest</th>\n",
       "      <th>Total on groupToTotal</th>\n",
       "      <th>%</th>\n",
       "    </tr>\n",
       "    <tr>\n",
       "      <th>Ano</th>\n",
       "      <th>mes</th>\n",
       "      <th>B008_desc</th>\n",
       "      <th></th>\n",
       "      <th></th>\n",
       "      <th></th>\n",
       "    </tr>\n",
       "  </thead>\n",
       "  <tbody>\n",
       "    <tr>\n",
       "      <th rowspan=\"6\" valign=\"top\">2020</th>\n",
       "      <th rowspan=\"3\" valign=\"top\">10</th>\n",
       "      <th>Ignorado</th>\n",
       "      <td>674</td>\n",
       "      <td>380461</td>\n",
       "      <td>0.18</td>\n",
       "    </tr>\n",
       "    <tr>\n",
       "      <th>Não</th>\n",
       "      <td>335247</td>\n",
       "      <td>380461</td>\n",
       "      <td>88.12</td>\n",
       "    </tr>\n",
       "    <tr>\n",
       "      <th>Sim</th>\n",
       "      <td>44540</td>\n",
       "      <td>380461</td>\n",
       "      <td>11.71</td>\n",
       "    </tr>\n",
       "    <tr>\n",
       "      <th rowspan=\"3\" valign=\"top\">11</th>\n",
       "      <th>Ignorado</th>\n",
       "      <td>613</td>\n",
       "      <td>381438</td>\n",
       "      <td>0.16</td>\n",
       "    </tr>\n",
       "    <tr>\n",
       "      <th>Não</th>\n",
       "      <td>330955</td>\n",
       "      <td>381438</td>\n",
       "      <td>86.77</td>\n",
       "    </tr>\n",
       "    <tr>\n",
       "      <th>Sim</th>\n",
       "      <td>49870</td>\n",
       "      <td>381438</td>\n",
       "      <td>13.07</td>\n",
       "    </tr>\n",
       "  </tbody>\n",
       "</table>\n",
       "</div>"
      ],
      "text/plain": [
       "                    qtd_quest  Total on groupToTotal      %\n",
       "Ano  mes B008_desc                                         \n",
       "2020 10  Ignorado         674                 380461   0.18\n",
       "         Não           335247                 380461  88.12\n",
       "         Sim            44540                 380461  11.71\n",
       "     11  Ignorado         613                 381438   0.16\n",
       "         Não           330955                 381438  86.77\n",
       "         Sim            49870                 381438  13.07"
      ]
     },
     "execution_count": 6,
     "metadata": {},
     "output_type": "execute_result"
    }
   ],
   "source": [
    "tab_porc_test = table_porc(df=df, groupBy=['Ano','mes','B008_desc'], groupToTotal=['Ano','mes']) \n",
    "tab_porc_test"
   ]
  },
  {
   "cell_type": "markdown",
   "metadata": {},
   "source": [
    "# Porcentagem que testou positivo"
   ]
  },
  {
   "cell_type": "code",
   "execution_count": 7,
   "metadata": {},
   "outputs": [
    {
     "name": "stderr",
     "output_type": "stream",
     "text": [
      "/tmp/ipykernel_16241/1363353374.py:3: FutureWarning: The provided callable <function sum at 0x758917594160> is currently using SeriesGroupBy.sum. In a future version of pandas, the provided callable will be used directly. To keep current behavior pass the string \"sum\" instead.\n",
      "  tab['Total on groupToTotal'] = tab.groupby(groupToTotal).qtd_quest.transform(np.sum)\n"
     ]
    },
    {
     "data": {
      "text/html": [
       "<div>\n",
       "<style scoped>\n",
       "    .dataframe tbody tr th:only-of-type {\n",
       "        vertical-align: middle;\n",
       "    }\n",
       "\n",
       "    .dataframe tbody tr th {\n",
       "        vertical-align: top;\n",
       "    }\n",
       "\n",
       "    .dataframe thead th {\n",
       "        text-align: right;\n",
       "    }\n",
       "</style>\n",
       "<table border=\"1\" class=\"dataframe\">\n",
       "  <thead>\n",
       "    <tr style=\"text-align: right;\">\n",
       "      <th></th>\n",
       "      <th></th>\n",
       "      <th></th>\n",
       "      <th>qtd_quest</th>\n",
       "      <th>Total on groupToTotal</th>\n",
       "      <th>%</th>\n",
       "    </tr>\n",
       "    <tr>\n",
       "      <th>Ano</th>\n",
       "      <th>mes</th>\n",
       "      <th>testou_positivo_covid</th>\n",
       "      <th></th>\n",
       "      <th></th>\n",
       "      <th></th>\n",
       "    </tr>\n",
       "  </thead>\n",
       "  <tbody>\n",
       "    <tr>\n",
       "      <th rowspan=\"4\" valign=\"top\">2020</th>\n",
       "      <th rowspan=\"2\" valign=\"top\">10</th>\n",
       "      <th>Outros</th>\n",
       "      <td>369510</td>\n",
       "      <td>380461</td>\n",
       "      <td>97.12</td>\n",
       "    </tr>\n",
       "    <tr>\n",
       "      <th>Positivo</th>\n",
       "      <td>10951</td>\n",
       "      <td>380461</td>\n",
       "      <td>2.88</td>\n",
       "    </tr>\n",
       "    <tr>\n",
       "      <th rowspan=\"2\" valign=\"top\">11</th>\n",
       "      <th>Outros</th>\n",
       "      <td>368986</td>\n",
       "      <td>381438</td>\n",
       "      <td>96.74</td>\n",
       "    </tr>\n",
       "    <tr>\n",
       "      <th>Positivo</th>\n",
       "      <td>12452</td>\n",
       "      <td>381438</td>\n",
       "      <td>3.26</td>\n",
       "    </tr>\n",
       "  </tbody>\n",
       "</table>\n",
       "</div>"
      ],
      "text/plain": [
       "                                qtd_quest  Total on groupToTotal      %\n",
       "Ano  mes testou_positivo_covid                                         \n",
       "2020 10  Outros                    369510                 380461  97.12\n",
       "         Positivo                   10951                 380461   2.88\n",
       "     11  Outros                    368986                 381438  96.74\n",
       "         Positivo                   12452                 381438   3.26"
      ]
     },
     "execution_count": 7,
     "metadata": {},
     "output_type": "execute_result"
    }
   ],
   "source": [
    "# Porcentagem sem filtrar as pessoas que realizaram algum teste\n",
    "df['testou_positivo_covid'] = np.where(\n",
    "    (df['B009B'] == 1) | (df['B009D'] == 1) | (df['B009F'] == 1), 'Positivo', 'Outros' \n",
    ")\n",
    "\n",
    "table_porc(df=df, groupBy=['Ano','mes','testou_positivo_covid'], groupToTotal=['Ano','mes'])"
   ]
  },
  {
   "cell_type": "code",
   "execution_count": 8,
   "metadata": {},
   "outputs": [
    {
     "name": "stderr",
     "output_type": "stream",
     "text": [
      "/tmp/ipykernel_16241/1363353374.py:3: FutureWarning: The provided callable <function sum at 0x758917594160> is currently using SeriesGroupBy.sum. In a future version of pandas, the provided callable will be used directly. To keep current behavior pass the string \"sum\" instead.\n",
      "  tab['Total on groupToTotal'] = tab.groupby(groupToTotal).qtd_quest.transform(np.sum)\n"
     ]
    },
    {
     "data": {
      "text/html": [
       "<div>\n",
       "<style scoped>\n",
       "    .dataframe tbody tr th:only-of-type {\n",
       "        vertical-align: middle;\n",
       "    }\n",
       "\n",
       "    .dataframe tbody tr th {\n",
       "        vertical-align: top;\n",
       "    }\n",
       "\n",
       "    .dataframe thead th {\n",
       "        text-align: right;\n",
       "    }\n",
       "</style>\n",
       "<table border=\"1\" class=\"dataframe\">\n",
       "  <thead>\n",
       "    <tr style=\"text-align: right;\">\n",
       "      <th></th>\n",
       "      <th></th>\n",
       "      <th></th>\n",
       "      <th>qtd_quest</th>\n",
       "      <th>Total on groupToTotal</th>\n",
       "      <th>%</th>\n",
       "    </tr>\n",
       "    <tr>\n",
       "      <th>Ano</th>\n",
       "      <th>mes</th>\n",
       "      <th>testou_positivo_covid</th>\n",
       "      <th></th>\n",
       "      <th></th>\n",
       "      <th></th>\n",
       "    </tr>\n",
       "  </thead>\n",
       "  <tbody>\n",
       "    <tr>\n",
       "      <th rowspan=\"4\" valign=\"top\">2020</th>\n",
       "      <th rowspan=\"2\" valign=\"top\">10</th>\n",
       "      <th>Outros</th>\n",
       "      <td>33589</td>\n",
       "      <td>44540</td>\n",
       "      <td>75.41</td>\n",
       "    </tr>\n",
       "    <tr>\n",
       "      <th>Positivo</th>\n",
       "      <td>10951</td>\n",
       "      <td>44540</td>\n",
       "      <td>24.59</td>\n",
       "    </tr>\n",
       "    <tr>\n",
       "      <th rowspan=\"2\" valign=\"top\">11</th>\n",
       "      <th>Outros</th>\n",
       "      <td>37418</td>\n",
       "      <td>49870</td>\n",
       "      <td>75.03</td>\n",
       "    </tr>\n",
       "    <tr>\n",
       "      <th>Positivo</th>\n",
       "      <td>12452</td>\n",
       "      <td>49870</td>\n",
       "      <td>24.97</td>\n",
       "    </tr>\n",
       "  </tbody>\n",
       "</table>\n",
       "</div>"
      ],
      "text/plain": [
       "                                qtd_quest  Total on groupToTotal      %\n",
       "Ano  mes testou_positivo_covid                                         \n",
       "2020 10  Outros                     33589                  44540  75.41\n",
       "         Positivo                   10951                  44540  24.59\n",
       "     11  Outros                     37418                  49870  75.03\n",
       "         Positivo                   12452                  49870  24.97"
      ]
     },
     "execution_count": 8,
     "metadata": {},
     "output_type": "execute_result"
    }
   ],
   "source": [
    "# Porcentagem para pessoas que realizaram o teste\n",
    "table_porc(df=df[df['B008_desc'] == 'Sim'], groupBy=['Ano','mes','testou_positivo_covid'], groupToTotal=['Ano','mes'])"
   ]
  },
  {
   "cell_type": "markdown",
   "metadata": {},
   "source": [
    "# Sintomas mais frequentes"
   ]
  },
  {
   "cell_type": "code",
   "execution_count": 9,
   "metadata": {},
   "outputs": [],
   "source": [
    "df['teve_sintoma'] = np.where(\n",
    "    (df['B0011_desc'] == 'Sim') |\n",
    "    (df['B0012_desc'] == 'Sim') |\n",
    "    (df['B0013_desc'] == 'Sim') |\n",
    "    (df['B0014_desc'] == 'Sim') |\n",
    "    (df['B0015_desc'] == 'Sim') |\n",
    "    (df['B0016_desc'] == 'Sim') |\n",
    "    (df['B0017_desc'] == 'Sim') |\n",
    "    (df['B0018_desc'] == 'Sim') |\n",
    "    (df['B0019_desc'] == 'Sim') |\n",
    "    (df['B00110_desc'] == 'Sim') |\n",
    "    (df['B00111_desc'] == 'Sim') |\n",
    "    (df['B00112_desc'] == 'Sim') |\n",
    "    (df['B00113_desc'] == 'Sim'), 'Sim', 'Não'\n",
    ")"
   ]
  },
  {
   "cell_type": "code",
   "execution_count": 13,
   "metadata": {},
   "outputs": [],
   "source": [
    "df_sintomas = df[['Ano','mes', 'teve_sintoma','B0011_desc', 'B0012_desc',\n",
    "       'B0013_desc', 'B0014_desc', 'B0015_desc', 'B0016_desc', 'B0017_desc',\n",
    "       'B0018_desc', 'B0019_desc', 'B00110_desc', 'B00111_desc', 'B00112_desc',\n",
    "       'B00113_desc']]\n",
    "\n",
    "df_sintomas = df_sintomas.rename(\n",
    "    columns={\n",
    "        'B0011_desc':'febre', 'B0012_desc':'tosse',\n",
    "       'B0013_desc':'dor de garganta', 'B0014_desc':'dificuldade de respirar', 'B0015_desc':'dor de cabeça', 'B0016_desc':'dor no peito', 'B0017_desc':'náusea',\n",
    "       'B0018_desc':'nariz entupido ou escorrendo', 'B0019_desc':'fadiga', 'B00110_desc':'dor nos olhos', 'B00111_desc':'perda de cheiro ou sabor', 'B00112_desc':'dor muscular',\n",
    "       'B00113_desc':'diarreia'\n",
    "    }\n",
    ").reset_index() # Cada index é um questionário\n",
    "\n",
    "df_sintomas = pd.melt(\n",
    "    frame=df_sintomas, \n",
    "    id_vars=['Ano','mes','teve_sintoma','index'], \n",
    "    value_vars=['febre','tosse','dor de garganta','dificuldade de respirar','dor de cabeça',\n",
    "                'dor no peito','náusea','nariz entupido ou escorrendo','fadiga','dor nos olhos',\n",
    "                'perda de cheiro ou sabor','dor muscular','diarreia'], \n",
    "    var_name='sintoma', \n",
    "    value_name='resposta'\n",
    ")"
   ]
  },
  {
   "cell_type": "code",
   "execution_count": 153,
   "metadata": {},
   "outputs": [
    {
     "name": "stderr",
     "output_type": "stream",
     "text": [
      "/tmp/ipykernel_16241/1363353374.py:3: FutureWarning: The provided callable <function sum at 0x758917594160> is currently using SeriesGroupBy.sum. In a future version of pandas, the provided callable will be used directly. To keep current behavior pass the string \"sum\" instead.\n",
      "  tab['Total on groupToTotal'] = tab.groupby(groupToTotal).qtd_quest.transform(np.sum)\n"
     ]
    },
    {
     "data": {
      "text/html": [
       "<div>\n",
       "<style scoped>\n",
       "    .dataframe tbody tr th:only-of-type {\n",
       "        vertical-align: middle;\n",
       "    }\n",
       "\n",
       "    .dataframe tbody tr th {\n",
       "        vertical-align: top;\n",
       "    }\n",
       "\n",
       "    .dataframe thead th {\n",
       "        text-align: right;\n",
       "    }\n",
       "</style>\n",
       "<table border=\"1\" class=\"dataframe\">\n",
       "  <thead>\n",
       "    <tr style=\"text-align: right;\">\n",
       "      <th></th>\n",
       "      <th>Ano</th>\n",
       "      <th>mes</th>\n",
       "      <th>qtd_quest_com_sintoma</th>\n",
       "      <th>%</th>\n",
       "    </tr>\n",
       "  </thead>\n",
       "  <tbody>\n",
       "    <tr>\n",
       "      <th>1</th>\n",
       "      <td>2020</td>\n",
       "      <td>10</td>\n",
       "      <td>13958</td>\n",
       "      <td>3.67</td>\n",
       "    </tr>\n",
       "    <tr>\n",
       "      <th>3</th>\n",
       "      <td>2020</td>\n",
       "      <td>11</td>\n",
       "      <td>14130</td>\n",
       "      <td>3.7</td>\n",
       "    </tr>\n",
       "  </tbody>\n",
       "</table>\n",
       "</div>"
      ],
      "text/plain": [
       "    Ano  mes  qtd_quest_com_sintoma     %\n",
       "1  2020   10                  13958  3.67\n",
       "3  2020   11                  14130   3.7"
      ]
     },
     "execution_count": 153,
     "metadata": {},
     "output_type": "execute_result"
    }
   ],
   "source": [
    "# Qtd de questionário que tiveram pelo menos um sintoma\n",
    "tab_teve_sintoma =  table_porc(df=df, groupBy=['Ano','mes','teve_sintoma'], groupToTotal=['Ano','mes'])\n",
    "# tab_teve_sintoma['ano-mes'] = tab_teve_sintoma['Ano'].astype('str') + tab_teve_sintoma['mes'].astype('str')\n",
    "# tab_teve_sintoma = tab_teve_sintoma.drop(columns=['Ano','mes'])\n",
    "tab_teve_sintoma = tab_teve_sintoma.reset_index()\n",
    "tab_teve_sintoma = tab_teve_sintoma[tab_teve_sintoma['teve_sintoma'] == 'Sim']\n",
    "tab_teve_sintoma = tab_teve_sintoma[['Ano','mes','qtd_quest','%']].rename(columns={'qtd_quest':'qtd_quest_com_sintoma'})\n",
    "tab_teve_sintoma"
   ]
  },
  {
   "cell_type": "code",
   "execution_count": 154,
   "metadata": {},
   "outputs": [],
   "source": [
    "# Tabela com a qtd de questionarios que tiver determinado sintoma \n",
    "tab_sintomas = df_sintomas[\n",
    "    (df_sintomas['teve_sintoma'] == 'Sim') & \n",
    "    (df_sintomas['resposta'] == 'Sim')\n",
    "].groupby('sintoma').agg({'index':'count'}).rename(\n",
    "    columns={'index':'qtd_quest'}\n",
    ").sort_values(\n",
    "    by=['qtd_quest'], ascending=True\n",
    ").reset_index().reset_index()\n",
    "\n",
    "tab_sintomas['index_sintoma'] = tab_sintomas['index'] + 1\n",
    "# tab_sintomas"
   ]
  },
  {
   "cell_type": "code",
   "execution_count": 156,
   "metadata": {},
   "outputs": [
    {
     "name": "stderr",
     "output_type": "stream",
     "text": [
      "/tmp/ipykernel_16241/1363353374.py:3: FutureWarning: The provided callable <function sum at 0x758917594160> is currently using SeriesGroupBy.sum. In a future version of pandas, the provided callable will be used directly. To keep current behavior pass the string \"sum\" instead.\n",
      "  tab['Total on groupToTotal'] = tab.groupby(groupToTotal).qtd_quest.transform(np.sum)\n"
     ]
    }
   ],
   "source": [
    "tab_freq_sintomas = table_porc(\n",
    "    df=df_sintomas[df_sintomas['teve_sintoma'] == 'Sim'], \n",
    "    groupBy=['Ano','mes','sintoma','resposta'], \n",
    "    groupToTotal=['Ano','mes'], \n",
    "    colToCount='index'\n",
    ").reset_index()\n",
    "\n",
    "tab_freq_sintomas = tab_freq_sintomas[tab_freq_sintomas['resposta'] == 'Sim'].sort_values(by=['Ano','mes','qtd_quest'], ascending=[True,True,False])\n",
    "\n",
    "# Adicionando a qtd de questionario que tiveram sintomas no mes\n",
    "tab_freq_sintomas = tab_freq_sintomas[['Ano','mes','sintoma','qtd_quest']].set_index(['Ano','mes']).join(\n",
    "    tab_teve_sintoma[['Ano','mes','qtd_quest_com_sintoma']].set_index(['Ano','mes']),\n",
    "    on=['Ano','mes'],\n",
    "    how='left'\n",
    ").reset_index()\n",
    "\n",
    "# Adicionando o index_sintoma\n",
    "tab_freq_sintomas = tab_freq_sintomas.set_index('sintoma').join(\n",
    "    tab_sintomas[['index_sintoma','sintoma']].set_index('sintoma'),\n",
    "    on='sintoma',\n",
    "    how='left'\n",
    ").reset_index()\n",
    "\n",
    "tab_freq_sintomas['%'] = round((tab_freq_sintomas['qtd_quest'] / tab_freq_sintomas['qtd_quest_com_sintoma']) * 100, 2)"
   ]
  },
  {
   "cell_type": "code",
   "execution_count": 157,
   "metadata": {},
   "outputs": [
    {
     "data": {
      "image/png": "[encoded data removed]",
      "text/plain": [
       "<Figure size 1000x800 with 1 Axes>"
      ]
     },
     "metadata": {},
     "output_type": "display_data"
    }
   ],
   "source": [
    "filter_202010 = tab_freq_sintomas[tab_freq_sintomas['mes']== 10].sort_values(by=['index_sintoma'], ascending=True)\n",
    "filter_202011 = tab_freq_sintomas[tab_freq_sintomas['mes']== 11].sort_values(by=['index_sintoma'], ascending=True)\n",
    "largura = 0.35\n",
    "\n",
    "fig, ax = plt.subplots(figsize=(10,8))\n",
    "g_202010 = ax.barh(np.array(filter_202010['index_sintoma']) - (largura/2), filter_202010['qtd_quest'], height=largura, label='2020/10')\n",
    "g_202011 = ax.barh(np.array(filter_202011['index_sintoma']) + (largura/2), filter_202011['qtd_quest'], height=largura, label='2020/11')\n",
    "ax.set_title(\" Quantidade de questionário com o sintoma por ano/mês:\")\n",
    "ax.legend()\n",
    "\n",
    "ax.set_xlabel(\"Qtd de questionários com o sintoma\")\n",
    "ax.set_yticks(np.array(tab_sintomas['index_sintoma']))\n",
    "ax.set_yticklabels(np.array(tab_sintomas['sintoma']))\n",
    "# ax.set_ylim([0,6000])\n",
    "\n",
    "# Adicionar rótulos para o g_202010\n",
    "for bar in g_202010:\n",
    "    plt.text(bar.get_width(), bar.get_y() + bar.get_height()/2, f'{bar.get_width():.0f}', \n",
    "             va='center', ha='left', fontsize=10)\n",
    "    \n",
    "# Adicionar rótulos acima o g_202010\n",
    "for bar in g_202011:\n",
    "    plt.text(bar.get_width(), bar.get_y() + bar.get_height()/2, f'{bar.get_width():.0f}', \n",
    "             va='center', ha='left', fontsize=10)\n",
    "\n",
    "plt.show()"
   ]
  },
  {
   "cell_type": "markdown",
   "metadata": {},
   "source": [
    "# Porcentagem de pessoas que tem sintomas e procuram ajuda médica "
   ]
  },
  {
   "cell_type": "code",
   "execution_count": 175,
   "metadata": {},
   "outputs": [
    {
     "name": "stderr",
     "output_type": "stream",
     "text": [
      "/tmp/ipykernel_16241/1363353374.py:3: FutureWarning: The provided callable <function sum at 0x758917594160> is currently using SeriesGroupBy.sum. In a future version of pandas, the provided callable will be used directly. To keep current behavior pass the string \"sum\" instead.\n",
      "  tab['Total on groupToTotal'] = tab.groupby(groupToTotal).qtd_quest.transform(np.sum)\n"
     ]
    },
    {
     "data": {
      "text/html": [
       "<div>\n",
       "<style scoped>\n",
       "    .dataframe tbody tr th:only-of-type {\n",
       "        vertical-align: middle;\n",
       "    }\n",
       "\n",
       "    .dataframe tbody tr th {\n",
       "        vertical-align: top;\n",
       "    }\n",
       "\n",
       "    .dataframe thead th {\n",
       "        text-align: right;\n",
       "    }\n",
       "</style>\n",
       "<table border=\"1\" class=\"dataframe\">\n",
       "  <thead>\n",
       "    <tr style=\"text-align: right;\">\n",
       "      <th></th>\n",
       "      <th></th>\n",
       "      <th></th>\n",
       "      <th>qtd_quest</th>\n",
       "      <th>Total on groupToTotal</th>\n",
       "      <th>%</th>\n",
       "    </tr>\n",
       "    <tr>\n",
       "      <th>Ano</th>\n",
       "      <th>mes</th>\n",
       "      <th>teve_sintoma</th>\n",
       "      <th></th>\n",
       "      <th></th>\n",
       "      <th></th>\n",
       "    </tr>\n",
       "  </thead>\n",
       "  <tbody>\n",
       "    <tr>\n",
       "      <th rowspan=\"4\" valign=\"top\">2020</th>\n",
       "      <th rowspan=\"2\" valign=\"top\">10</th>\n",
       "      <th>Não</th>\n",
       "      <td>366503</td>\n",
       "      <td>380461</td>\n",
       "      <td>96.33</td>\n",
       "    </tr>\n",
       "    <tr>\n",
       "      <th>Sim</th>\n",
       "      <td>13958</td>\n",
       "      <td>380461</td>\n",
       "      <td>3.67</td>\n",
       "    </tr>\n",
       "    <tr>\n",
       "      <th rowspan=\"2\" valign=\"top\">11</th>\n",
       "      <th>Não</th>\n",
       "      <td>367308</td>\n",
       "      <td>381438</td>\n",
       "      <td>96.3</td>\n",
       "    </tr>\n",
       "    <tr>\n",
       "      <th>Sim</th>\n",
       "      <td>14130</td>\n",
       "      <td>381438</td>\n",
       "      <td>3.7</td>\n",
       "    </tr>\n",
       "  </tbody>\n",
       "</table>\n",
       "</div>"
      ],
      "text/plain": [
       "                       qtd_quest  Total on groupToTotal      %\n",
       "Ano  mes teve_sintoma                                         \n",
       "2020 10  Não              366503                 380461  96.33\n",
       "         Sim               13958                 380461   3.67\n",
       "     11  Não              367308                 381438   96.3\n",
       "         Sim               14130                 381438    3.7"
      ]
     },
     "execution_count": 175,
     "metadata": {},
     "output_type": "execute_result"
    }
   ],
   "source": [
    "table_porc(df=df, groupBy=['Ano','mes','teve_sintoma'], groupToTotal=['Ano','mes'])"
   ]
  },
  {
   "cell_type": "code",
   "execution_count": 178,
   "metadata": {},
   "outputs": [
    {
     "name": "stderr",
     "output_type": "stream",
     "text": [
      "/tmp/ipykernel_16241/1363353374.py:3: FutureWarning: The provided callable <function sum at 0x758917594160> is currently using SeriesGroupBy.sum. In a future version of pandas, the provided callable will be used directly. To keep current behavior pass the string \"sum\" instead.\n",
      "  tab['Total on groupToTotal'] = tab.groupby(groupToTotal).qtd_quest.transform(np.sum)\n"
     ]
    },
    {
     "data": {
      "text/html": [
       "<div>\n",
       "<style scoped>\n",
       "    .dataframe tbody tr th:only-of-type {\n",
       "        vertical-align: middle;\n",
       "    }\n",
       "\n",
       "    .dataframe tbody tr th {\n",
       "        vertical-align: top;\n",
       "    }\n",
       "\n",
       "    .dataframe thead th {\n",
       "        text-align: right;\n",
       "    }\n",
       "</style>\n",
       "<table border=\"1\" class=\"dataframe\">\n",
       "  <thead>\n",
       "    <tr style=\"text-align: right;\">\n",
       "      <th></th>\n",
       "      <th></th>\n",
       "      <th></th>\n",
       "      <th></th>\n",
       "      <th>qtd_quest</th>\n",
       "      <th>qtd_quest_com_sintoma_no_mes</th>\n",
       "      <th>%</th>\n",
       "    </tr>\n",
       "    <tr>\n",
       "      <th>Ano</th>\n",
       "      <th>mes</th>\n",
       "      <th>teve_sintoma</th>\n",
       "      <th>B002_desc</th>\n",
       "      <th></th>\n",
       "      <th></th>\n",
       "      <th></th>\n",
       "    </tr>\n",
       "  </thead>\n",
       "  <tbody>\n",
       "    <tr>\n",
       "      <th rowspan=\"6\" valign=\"top\">2020</th>\n",
       "      <th rowspan=\"3\" valign=\"top\">10</th>\n",
       "      <th rowspan=\"3\" valign=\"top\">Sim</th>\n",
       "      <th>Ignorado</th>\n",
       "      <td>5</td>\n",
       "      <td>13958</td>\n",
       "      <td>0.04</td>\n",
       "    </tr>\n",
       "    <tr>\n",
       "      <th>Não</th>\n",
       "      <td>10293</td>\n",
       "      <td>13958</td>\n",
       "      <td>73.74</td>\n",
       "    </tr>\n",
       "    <tr>\n",
       "      <th>Sim</th>\n",
       "      <td>3660</td>\n",
       "      <td>13958</td>\n",
       "      <td>26.22</td>\n",
       "    </tr>\n",
       "    <tr>\n",
       "      <th rowspan=\"3\" valign=\"top\">11</th>\n",
       "      <th rowspan=\"3\" valign=\"top\">Sim</th>\n",
       "      <th>Ignorado</th>\n",
       "      <td>5</td>\n",
       "      <td>14130</td>\n",
       "      <td>0.04</td>\n",
       "    </tr>\n",
       "    <tr>\n",
       "      <th>Não</th>\n",
       "      <td>10096</td>\n",
       "      <td>14130</td>\n",
       "      <td>71.45</td>\n",
       "    </tr>\n",
       "    <tr>\n",
       "      <th>Sim</th>\n",
       "      <td>4029</td>\n",
       "      <td>14130</td>\n",
       "      <td>28.51</td>\n",
       "    </tr>\n",
       "  </tbody>\n",
       "</table>\n",
       "</div>"
      ],
      "text/plain": [
       "                                 qtd_quest  qtd_quest_com_sintoma_no_mes  \\\n",
       "Ano  mes teve_sintoma B002_desc                                            \n",
       "2020 10  Sim          Ignorado           5                         13958   \n",
       "                      Não            10293                         13958   \n",
       "                      Sim             3660                         13958   \n",
       "     11  Sim          Ignorado           5                         14130   \n",
       "                      Não            10096                         14130   \n",
       "                      Sim             4029                         14130   \n",
       "\n",
       "                                     %  \n",
       "Ano  mes teve_sintoma B002_desc         \n",
       "2020 10  Sim          Ignorado    0.04  \n",
       "                      Não        73.74  \n",
       "                      Sim        26.22  \n",
       "     11  Sim          Ignorado    0.04  \n",
       "                      Não        71.45  \n",
       "                      Sim        28.51  "
      ]
     },
     "execution_count": 178,
     "metadata": {},
     "output_type": "execute_result"
    }
   ],
   "source": [
    "table_porc(df=df, groupBy=['Ano','mes','teve_sintoma','B002_desc'], groupToTotal=['Ano','mes','teve_sintoma']).rename(columns={'Total on groupToTotal':'qtd_quest_com_sintoma_no_mes'})"
   ]
  },
  {
   "cell_type": "markdown",
   "metadata": {},
   "source": [
    "# Internação / intubação"
   ]
  },
  {
   "cell_type": "code",
   "execution_count": 170,
   "metadata": {},
   "outputs": [
    {
     "data": {
      "text/plain": [
       "Ano          761899\n",
       "mes          761899\n",
       "B002_desc     28088\n",
       "B005           3951\n",
       "B005_desc      3951\n",
       "B006            380\n",
       "B006_desc       380\n",
       "UF           761899\n",
       "dtype: int64"
      ]
     },
     "execution_count": 170,
     "metadata": {},
     "output_type": "execute_result"
    }
   ],
   "source": [
    "df[['Ano','mes','B002_desc','B005','B005_desc','B006','B006_desc','UF']].notnull().sum()"
   ]
  },
  {
   "cell_type": "code",
   "execution_count": 179,
   "metadata": {},
   "outputs": [
    {
     "name": "stderr",
     "output_type": "stream",
     "text": [
      "/tmp/ipykernel_16241/1363353374.py:3: FutureWarning: The provided callable <function sum at 0x758917594160> is currently using SeriesGroupBy.sum. In a future version of pandas, the provided callable will be used directly. To keep current behavior pass the string \"sum\" instead.\n",
      "  tab['Total on groupToTotal'] = tab.groupby(groupToTotal).qtd_quest.transform(np.sum)\n"
     ]
    },
    {
     "data": {
      "text/html": [
       "<div>\n",
       "<style scoped>\n",
       "    .dataframe tbody tr th:only-of-type {\n",
       "        vertical-align: middle;\n",
       "    }\n",
       "\n",
       "    .dataframe tbody tr th {\n",
       "        vertical-align: top;\n",
       "    }\n",
       "\n",
       "    .dataframe thead th {\n",
       "        text-align: right;\n",
       "    }\n",
       "</style>\n",
       "<table border=\"1\" class=\"dataframe\">\n",
       "  <thead>\n",
       "    <tr style=\"text-align: right;\">\n",
       "      <th></th>\n",
       "      <th>Ano</th>\n",
       "      <th>mes</th>\n",
       "      <th>teve_sintoma</th>\n",
       "      <th>Procurou um estabelecimento de saúde ?</th>\n",
       "      <th>Foi internado ?</th>\n",
       "      <th>qtd_quest</th>\n",
       "      <th>Total on groupToTotal</th>\n",
       "      <th>%</th>\n",
       "    </tr>\n",
       "  </thead>\n",
       "  <tbody>\n",
       "    <tr>\n",
       "      <th>0</th>\n",
       "      <td>2020</td>\n",
       "      <td>10</td>\n",
       "      <td>Sim</td>\n",
       "      <td>Sim</td>\n",
       "      <td>Não</td>\n",
       "      <td>1650</td>\n",
       "      <td>1852</td>\n",
       "      <td>89.09</td>\n",
       "    </tr>\n",
       "    <tr>\n",
       "      <th>1</th>\n",
       "      <td>2020</td>\n",
       "      <td>10</td>\n",
       "      <td>Sim</td>\n",
       "      <td>Sim</td>\n",
       "      <td>Não foi atendido</td>\n",
       "      <td>20</td>\n",
       "      <td>1852</td>\n",
       "      <td>1.08</td>\n",
       "    </tr>\n",
       "    <tr>\n",
       "      <th>2</th>\n",
       "      <td>2020</td>\n",
       "      <td>10</td>\n",
       "      <td>Sim</td>\n",
       "      <td>Sim</td>\n",
       "      <td>Sim</td>\n",
       "      <td>182</td>\n",
       "      <td>1852</td>\n",
       "      <td>9.83</td>\n",
       "    </tr>\n",
       "    <tr>\n",
       "      <th>3</th>\n",
       "      <td>2020</td>\n",
       "      <td>11</td>\n",
       "      <td>Sim</td>\n",
       "      <td>Sim</td>\n",
       "      <td>Ignorado</td>\n",
       "      <td>3</td>\n",
       "      <td>2099</td>\n",
       "      <td>0.14</td>\n",
       "    </tr>\n",
       "    <tr>\n",
       "      <th>4</th>\n",
       "      <td>2020</td>\n",
       "      <td>11</td>\n",
       "      <td>Sim</td>\n",
       "      <td>Sim</td>\n",
       "      <td>Não</td>\n",
       "      <td>1873</td>\n",
       "      <td>2099</td>\n",
       "      <td>89.23</td>\n",
       "    </tr>\n",
       "    <tr>\n",
       "      <th>5</th>\n",
       "      <td>2020</td>\n",
       "      <td>11</td>\n",
       "      <td>Sim</td>\n",
       "      <td>Sim</td>\n",
       "      <td>Não foi atendido</td>\n",
       "      <td>25</td>\n",
       "      <td>2099</td>\n",
       "      <td>1.19</td>\n",
       "    </tr>\n",
       "    <tr>\n",
       "      <th>6</th>\n",
       "      <td>2020</td>\n",
       "      <td>11</td>\n",
       "      <td>Sim</td>\n",
       "      <td>Sim</td>\n",
       "      <td>Sim</td>\n",
       "      <td>198</td>\n",
       "      <td>2099</td>\n",
       "      <td>9.43</td>\n",
       "    </tr>\n",
       "  </tbody>\n",
       "</table>\n",
       "</div>"
      ],
      "text/plain": [
       "    Ano  mes teve_sintoma Procurou um estabelecimento de saúde ?  \\\n",
       "0  2020   10          Sim                                    Sim   \n",
       "1  2020   10          Sim                                    Sim   \n",
       "2  2020   10          Sim                                    Sim   \n",
       "3  2020   11          Sim                                    Sim   \n",
       "4  2020   11          Sim                                    Sim   \n",
       "5  2020   11          Sim                                    Sim   \n",
       "6  2020   11          Sim                                    Sim   \n",
       "\n",
       "    Foi internado ?  qtd_quest  Total on groupToTotal      %  \n",
       "0               Não       1650                   1852  89.09  \n",
       "1  Não foi atendido         20                   1852   1.08  \n",
       "2               Sim        182                   1852   9.83  \n",
       "3          Ignorado          3                   2099   0.14  \n",
       "4               Não       1873                   2099  89.23  \n",
       "5  Não foi atendido         25                   2099   1.19  \n",
       "6               Sim        198                   2099   9.43  "
      ]
     },
     "execution_count": 179,
     "metadata": {},
     "output_type": "execute_result"
    }
   ],
   "source": [
    "table_porc(df=df, groupBy=['Ano','mes','teve_sintoma','B002_desc','B005_desc'], groupToTotal=['Ano','mes']).reset_index().rename(\n",
    "    columns={\n",
    "        'B002_desc':'Procurou um estabelecimento de saúde ?',\n",
    "        'B005_desc':'Foi internado ?'\n",
    "    }\n",
    ")"
   ]
  },
  {
   "cell_type": "markdown",
   "metadata": {},
   "source": [
    "# Funil"
   ]
  },
  {
   "cell_type": "code",
   "execution_count": 185,
   "metadata": {},
   "outputs": [
    {
     "data": {
      "text/html": [
       "<div>\n",
       "<style scoped>\n",
       "    .dataframe tbody tr th:only-of-type {\n",
       "        vertical-align: middle;\n",
       "    }\n",
       "\n",
       "    .dataframe tbody tr th {\n",
       "        vertical-align: top;\n",
       "    }\n",
       "\n",
       "    .dataframe thead tr th {\n",
       "        text-align: left;\n",
       "    }\n",
       "</style>\n",
       "<table border=\"1\" class=\"dataframe\">\n",
       "  <thead>\n",
       "    <tr>\n",
       "      <th>Ano</th>\n",
       "      <th colspan=\"2\" halign=\"left\">2020</th>\n",
       "    </tr>\n",
       "    <tr>\n",
       "      <th>mes</th>\n",
       "      <th>10</th>\n",
       "      <th>11</th>\n",
       "    </tr>\n",
       "  </thead>\n",
       "  <tbody>\n",
       "    <tr>\n",
       "      <th>Qtd. que tem algum sintoma:</th>\n",
       "      <td>13958</td>\n",
       "      <td>14130</td>\n",
       "    </tr>\n",
       "    <tr>\n",
       "      <th>Qtd.  que procurou um estabelicimento de saúde:</th>\n",
       "      <td>3660</td>\n",
       "      <td>4029</td>\n",
       "    </tr>\n",
       "    <tr>\n",
       "      <th>Qtd. internada:</th>\n",
       "      <td>182</td>\n",
       "      <td>198</td>\n",
       "    </tr>\n",
       "    <tr>\n",
       "      <th>Qtd. intubada:</th>\n",
       "      <td>44</td>\n",
       "      <td>39</td>\n",
       "    </tr>\n",
       "  </tbody>\n",
       "</table>\n",
       "</div>"
      ],
      "text/plain": [
       "Ano                                               2020       \n",
       "mes                                                 10     11\n",
       "Qtd. que tem algum sintoma:                      13958  14130\n",
       "Qtd.  que procurou um estabelicimento de saúde:   3660   4029\n",
       "Qtd. internada:                                    182    198\n",
       "Qtd. intubada:                                      44     39"
      ]
     },
     "execution_count": 185,
     "metadata": {},
     "output_type": "execute_result"
    }
   ],
   "source": [
    "df['teve_sintoma_num'] = np.where(df['teve_sintoma'] == 'Sim', 1, 0)\n",
    "df['proc_med_num'] = np.where(df['B002_desc'] == 'Sim', 1, 0)\n",
    "df['internado_num'] = np.where(df['B005_desc'] == 'Sim', 1, 0)\n",
    "df['intubado_num'] = np.where(df['B006_desc'] == 'Sim', 1, 0)\n",
    "\n",
    "df.groupby(['Ano','mes'])[['teve_sintoma_num','proc_med_num','internado_num','intubado_num']].sum().rename(\n",
    "    columns={\n",
    "        'teve_sintoma_num':'Qtd. que tem algum sintoma:',\n",
    "        'proc_med_num':'Qtd.  que procurou um estabelicimento de saúde:',\n",
    "        'internado_num':'Qtd. internada:',\n",
    "        'intubado_num':'Qtd. intubada:'\n",
    "        }\n",
    ").T\n"
   ]
  },
  {
   "cell_type": "code",
   "execution_count": 186,
   "metadata": {},
   "outputs": [
    {
     "data": {
      "text/plain": [
       "0.049421251137989335"
      ]
     },
     "execution_count": 186,
     "metadata": {},
     "output_type": "execute_result"
    }
   ],
   "source": [
    "# porcentagem de internações média\n",
    "(182+198)/(3660+4029)"
   ]
  },
  {
   "cell_type": "code",
   "execution_count": 187,
   "metadata": {},
   "outputs": [
    {
     "data": {
      "text/plain": [
       "0.010794641695929249"
      ]
     },
     "execution_count": 187,
     "metadata": {},
     "output_type": "execute_result"
    }
   ],
   "source": [
    "# porcentagem de intubações média\n",
    "(44+39)/(3660+4029)"
   ]
  },
  {
   "cell_type": "markdown",
   "metadata": {},
   "source": [
    "# Idade"
   ]
  },
  {
   "cell_type": "code",
   "execution_count": 192,
   "metadata": {},
   "outputs": [
    {
     "data": {
      "text/plain": [
       "0         Outros\n",
       "1         Outros\n",
       "2         Outros\n",
       "3         Outros\n",
       "4         Outros\n",
       "           ...  \n",
       "761894    Outros\n",
       "761895    Outros\n",
       "761896    Outros\n",
       "761897    Outros\n",
       "761898    Outros\n",
       "Name: testou_positivo_covid, Length: 761899, dtype: object"
      ]
     },
     "execution_count": 192,
     "metadata": {},
     "output_type": "execute_result"
    }
   ],
   "source": [
    "df['testou_positivo_covid']"
   ]
  },
  {
   "cell_type": "code",
   "execution_count": 203,
   "metadata": {},
   "outputs": [
    {
     "data": {
      "image/png": "[encoded data removed]",
      "text/plain": [
       "<Figure size 800x400 with 1 Axes>"
      ]
     },
     "metadata": {},
     "output_type": "display_data"
    }
   ],
   "source": [
    "# Distribuição de idade separada por quem testou positivo em covid\n",
    "fig = plt.figure(figsize = (8, 4))\n",
    "ax = sns.histplot(x = df['A002'], hue = df['testou_positivo_covid'])\n",
    "ax.set_xlabel(\"Idade\")\n",
    "ax.set_ylabel(\"Qtd de queestionários\")\n",
    "ax.set_title(\"Distribuição de idade separada por quem testou positivo em covid\")\n",
    "plt.show()"
   ]
  },
  {
   "cell_type": "markdown",
   "metadata": {},
   "source": [
    "# Sexo"
   ]
  },
  {
   "cell_type": "code",
   "execution_count": 206,
   "metadata": {},
   "outputs": [
    {
     "name": "stderr",
     "output_type": "stream",
     "text": [
      "/tmp/ipykernel_16241/1363353374.py:3: FutureWarning: The provided callable <function sum at 0x758917594160> is currently using SeriesGroupBy.sum. In a future version of pandas, the provided callable will be used directly. To keep current behavior pass the string \"sum\" instead.\n",
      "  tab['Total on groupToTotal'] = tab.groupby(groupToTotal).qtd_quest.transform(np.sum)\n"
     ]
    },
    {
     "data": {
      "text/html": [
       "<div>\n",
       "<style scoped>\n",
       "    .dataframe tbody tr th:only-of-type {\n",
       "        vertical-align: middle;\n",
       "    }\n",
       "\n",
       "    .dataframe tbody tr th {\n",
       "        vertical-align: top;\n",
       "    }\n",
       "\n",
       "    .dataframe thead th {\n",
       "        text-align: right;\n",
       "    }\n",
       "</style>\n",
       "<table border=\"1\" class=\"dataframe\">\n",
       "  <thead>\n",
       "    <tr style=\"text-align: right;\">\n",
       "      <th></th>\n",
       "      <th></th>\n",
       "      <th></th>\n",
       "      <th>qtd_quest</th>\n",
       "      <th>Total on groupToTotal</th>\n",
       "      <th>%</th>\n",
       "    </tr>\n",
       "    <tr>\n",
       "      <th>Ano</th>\n",
       "      <th>mes</th>\n",
       "      <th>A003_desc</th>\n",
       "      <th></th>\n",
       "      <th></th>\n",
       "      <th></th>\n",
       "    </tr>\n",
       "  </thead>\n",
       "  <tbody>\n",
       "    <tr>\n",
       "      <th rowspan=\"4\" valign=\"top\">2020</th>\n",
       "      <th rowspan=\"2\" valign=\"top\">10</th>\n",
       "      <th>Homem</th>\n",
       "      <td>182309</td>\n",
       "      <td>380461</td>\n",
       "      <td>47.92</td>\n",
       "    </tr>\n",
       "    <tr>\n",
       "      <th>Mulher</th>\n",
       "      <td>198152</td>\n",
       "      <td>380461</td>\n",
       "      <td>52.08</td>\n",
       "    </tr>\n",
       "    <tr>\n",
       "      <th rowspan=\"2\" valign=\"top\">11</th>\n",
       "      <th>Homem</th>\n",
       "      <td>182611</td>\n",
       "      <td>381438</td>\n",
       "      <td>47.87</td>\n",
       "    </tr>\n",
       "    <tr>\n",
       "      <th>Mulher</th>\n",
       "      <td>198827</td>\n",
       "      <td>381438</td>\n",
       "      <td>52.13</td>\n",
       "    </tr>\n",
       "  </tbody>\n",
       "</table>\n",
       "</div>"
      ],
      "text/plain": [
       "                    qtd_quest  Total on groupToTotal      %\n",
       "Ano  mes A003_desc                                         \n",
       "2020 10  Homem         182309                 380461  47.92\n",
       "         Mulher        198152                 380461  52.08\n",
       "     11  Homem         182611                 381438  47.87\n",
       "         Mulher        198827                 381438  52.13"
      ]
     },
     "execution_count": 206,
     "metadata": {},
     "output_type": "execute_result"
    }
   ],
   "source": [
    "# df['A003_desc']\n",
    "table_porc(df=df, groupBy=['Ano','mes','A003_desc'], groupToTotal=['Ano','mes'])"
   ]
  },
  {
   "cell_type": "code",
   "execution_count": 207,
   "metadata": {},
   "outputs": [
    {
     "name": "stderr",
     "output_type": "stream",
     "text": [
      "/tmp/ipykernel_16241/1363353374.py:3: FutureWarning: The provided callable <function sum at 0x758917594160> is currently using SeriesGroupBy.sum. In a future version of pandas, the provided callable will be used directly. To keep current behavior pass the string \"sum\" instead.\n",
      "  tab['Total on groupToTotal'] = tab.groupby(groupToTotal).qtd_quest.transform(np.sum)\n"
     ]
    },
    {
     "data": {
      "text/html": [
       "<div>\n",
       "<style scoped>\n",
       "    .dataframe tbody tr th:only-of-type {\n",
       "        vertical-align: middle;\n",
       "    }\n",
       "\n",
       "    .dataframe tbody tr th {\n",
       "        vertical-align: top;\n",
       "    }\n",
       "\n",
       "    .dataframe thead th {\n",
       "        text-align: right;\n",
       "    }\n",
       "</style>\n",
       "<table border=\"1\" class=\"dataframe\">\n",
       "  <thead>\n",
       "    <tr style=\"text-align: right;\">\n",
       "      <th></th>\n",
       "      <th></th>\n",
       "      <th></th>\n",
       "      <th></th>\n",
       "      <th>qtd_quest</th>\n",
       "      <th>Total on groupToTotal</th>\n",
       "      <th>%</th>\n",
       "    </tr>\n",
       "    <tr>\n",
       "      <th>Ano</th>\n",
       "      <th>mes</th>\n",
       "      <th>A003_desc</th>\n",
       "      <th>testou_positivo_covid</th>\n",
       "      <th></th>\n",
       "      <th></th>\n",
       "      <th></th>\n",
       "    </tr>\n",
       "  </thead>\n",
       "  <tbody>\n",
       "    <tr>\n",
       "      <th rowspan=\"8\" valign=\"top\">2020</th>\n",
       "      <th rowspan=\"4\" valign=\"top\">10</th>\n",
       "      <th rowspan=\"2\" valign=\"top\">Homem</th>\n",
       "      <th>Outros</th>\n",
       "      <td>177420</td>\n",
       "      <td>380461</td>\n",
       "      <td>46.63</td>\n",
       "    </tr>\n",
       "    <tr>\n",
       "      <th>Positivo</th>\n",
       "      <td>4889</td>\n",
       "      <td>380461</td>\n",
       "      <td>1.29</td>\n",
       "    </tr>\n",
       "    <tr>\n",
       "      <th rowspan=\"2\" valign=\"top\">Mulher</th>\n",
       "      <th>Outros</th>\n",
       "      <td>192090</td>\n",
       "      <td>380461</td>\n",
       "      <td>50.49</td>\n",
       "    </tr>\n",
       "    <tr>\n",
       "      <th>Positivo</th>\n",
       "      <td>6062</td>\n",
       "      <td>380461</td>\n",
       "      <td>1.59</td>\n",
       "    </tr>\n",
       "    <tr>\n",
       "      <th rowspan=\"4\" valign=\"top\">11</th>\n",
       "      <th rowspan=\"2\" valign=\"top\">Homem</th>\n",
       "      <th>Outros</th>\n",
       "      <td>177032</td>\n",
       "      <td>381438</td>\n",
       "      <td>46.41</td>\n",
       "    </tr>\n",
       "    <tr>\n",
       "      <th>Positivo</th>\n",
       "      <td>5579</td>\n",
       "      <td>381438</td>\n",
       "      <td>1.46</td>\n",
       "    </tr>\n",
       "    <tr>\n",
       "      <th rowspan=\"2\" valign=\"top\">Mulher</th>\n",
       "      <th>Outros</th>\n",
       "      <td>191954</td>\n",
       "      <td>381438</td>\n",
       "      <td>50.32</td>\n",
       "    </tr>\n",
       "    <tr>\n",
       "      <th>Positivo</th>\n",
       "      <td>6873</td>\n",
       "      <td>381438</td>\n",
       "      <td>1.8</td>\n",
       "    </tr>\n",
       "  </tbody>\n",
       "</table>\n",
       "</div>"
      ],
      "text/plain": [
       "                                          qtd_quest  Total on groupToTotal  \\\n",
       "Ano  mes A003_desc testou_positivo_covid                                     \n",
       "2020 10  Homem     Outros                    177420                 380461   \n",
       "                   Positivo                    4889                 380461   \n",
       "         Mulher    Outros                    192090                 380461   \n",
       "                   Positivo                    6062                 380461   \n",
       "     11  Homem     Outros                    177032                 381438   \n",
       "                   Positivo                    5579                 381438   \n",
       "         Mulher    Outros                    191954                 381438   \n",
       "                   Positivo                    6873                 381438   \n",
       "\n",
       "                                              %  \n",
       "Ano  mes A003_desc testou_positivo_covid         \n",
       "2020 10  Homem     Outros                 46.63  \n",
       "                   Positivo                1.29  \n",
       "         Mulher    Outros                 50.49  \n",
       "                   Positivo                1.59  \n",
       "     11  Homem     Outros                 46.41  \n",
       "                   Positivo                1.46  \n",
       "         Mulher    Outros                 50.32  \n",
       "                   Positivo                 1.8  "
      ]
     },
     "execution_count": 207,
     "metadata": {},
     "output_type": "execute_result"
    }
   ],
   "source": [
    "table_porc(df=df, groupBy=['Ano','mes','A003_desc','testou_positivo_covid'], groupToTotal=['Ano','mes'])"
   ]
  },
  {
   "cell_type": "markdown",
   "metadata": {},
   "source": [
    "# Categoria de trabalho"
   ]
  },
  {
   "cell_type": "code",
   "execution_count": 209,
   "metadata": {},
   "outputs": [
    {
     "data": {
      "text/plain": [
       "0                                                      None\n",
       "1                                                      None\n",
       "2                                                      None\n",
       "3                                                      None\n",
       "4                                                      None\n",
       "                                ...                        \n",
       "761894    Empregado do setor público (inclusive empresas...\n",
       "761895    Empregado do setor público (inclusive empresas...\n",
       "761896                                           Empregador\n",
       "761897                                        Conta própria\n",
       "761898                           Empregado do setor privado\n",
       "Name: C007_desc, Length: 761899, dtype: object"
      ]
     },
     "execution_count": 209,
     "metadata": {},
     "output_type": "execute_result"
    }
   ],
   "source": [
    "df['C007_desc']"
   ]
  },
  {
   "cell_type": "code",
   "execution_count": 219,
   "metadata": {},
   "outputs": [
    {
     "data": {
      "text/html": [
       "<div>\n",
       "<style scoped>\n",
       "    .dataframe tbody tr th:only-of-type {\n",
       "        vertical-align: middle;\n",
       "    }\n",
       "\n",
       "    .dataframe tbody tr th {\n",
       "        vertical-align: top;\n",
       "    }\n",
       "\n",
       "    .dataframe thead th {\n",
       "        text-align: right;\n",
       "    }\n",
       "</style>\n",
       "<table border=\"1\" class=\"dataframe\">\n",
       "  <thead>\n",
       "    <tr style=\"text-align: right;\">\n",
       "      <th></th>\n",
       "      <th>qtd quest</th>\n",
       "      <th>qtd positivo covid</th>\n",
       "      <th>% positivos</th>\n",
       "    </tr>\n",
       "    <tr>\n",
       "      <th>profissão</th>\n",
       "      <th></th>\n",
       "      <th></th>\n",
       "      <th></th>\n",
       "    </tr>\n",
       "  </thead>\n",
       "  <tbody>\n",
       "    <tr>\n",
       "      <th>Plicial militar ou bombeiro mlilitar</th>\n",
       "      <td>1351</td>\n",
       "      <td>174</td>\n",
       "      <td>12.88</td>\n",
       "    </tr>\n",
       "    <tr>\n",
       "      <th>Militar do exercito, marinha ou aeronáutica</th>\n",
       "      <td>1159</td>\n",
       "      <td>114</td>\n",
       "      <td>9.84</td>\n",
       "    </tr>\n",
       "    <tr>\n",
       "      <th>Empregado do setor público (inclusive empresas de economia mista)</th>\n",
       "      <td>43688</td>\n",
       "      <td>3503</td>\n",
       "      <td>8.02</td>\n",
       "    </tr>\n",
       "    <tr>\n",
       "      <th>Empregador</th>\n",
       "      <td>8806</td>\n",
       "      <td>532</td>\n",
       "      <td>6.04</td>\n",
       "    </tr>\n",
       "    <tr>\n",
       "      <th>Empregado do setor privado</th>\n",
       "      <td>124918</td>\n",
       "      <td>5956</td>\n",
       "      <td>4.77</td>\n",
       "    </tr>\n",
       "    <tr>\n",
       "      <th>Conta própria</th>\n",
       "      <td>88760</td>\n",
       "      <td>2757</td>\n",
       "      <td>3.11</td>\n",
       "    </tr>\n",
       "    <tr>\n",
       "      <th>Trabalhador doméstico (empregado doméstico, cuidados, babá)</th>\n",
       "      <td>14883</td>\n",
       "      <td>461</td>\n",
       "      <td>3.1</td>\n",
       "    </tr>\n",
       "    <tr>\n",
       "      <th>Trabalhador familiar não remunerado em ajuda a membro do domicílio ou parente</th>\n",
       "      <td>6875</td>\n",
       "      <td>195</td>\n",
       "      <td>2.84</td>\n",
       "    </tr>\n",
       "    <tr>\n",
       "      <th>NaN</th>\n",
       "      <td>461162</td>\n",
       "      <td>9569</td>\n",
       "      <td>2.07</td>\n",
       "    </tr>\n",
       "    <tr>\n",
       "      <th>Estava fora do mercado de trabalho (fazia apenas afazeres domésticos, cuidados de pessoas ou produção para próprio consumo)</th>\n",
       "      <td>10297</td>\n",
       "      <td>142</td>\n",
       "      <td>1.38</td>\n",
       "    </tr>\n",
       "  </tbody>\n",
       "</table>\n",
       "</div>"
      ],
      "text/plain": [
       "                                                    qtd quest  \\\n",
       "profissão                                                       \n",
       "Plicial militar ou bombeiro mlilitar                     1351   \n",
       "Militar do exercito, marinha ou aeronáutica              1159   \n",
       "Empregado do setor público (inclusive empresas ...      43688   \n",
       "Empregador                                               8806   \n",
       "Empregado do setor privado                             124918   \n",
       "Conta própria                                           88760   \n",
       "Trabalhador doméstico (empregado doméstico, cui...      14883   \n",
       "Trabalhador familiar não remunerado em ajuda a ...       6875   \n",
       "NaN                                                    461162   \n",
       "Estava fora do mercado de trabalho (fazia apena...      10297   \n",
       "\n",
       "                                                    qtd positivo covid  \\\n",
       "profissão                                                                \n",
       "Plicial militar ou bombeiro mlilitar                               174   \n",
       "Militar do exercito, marinha ou aeronáutica                        114   \n",
       "Empregado do setor público (inclusive empresas ...                3503   \n",
       "Empregador                                                         532   \n",
       "Empregado do setor privado                                        5956   \n",
       "Conta própria                                                     2757   \n",
       "Trabalhador doméstico (empregado doméstico, cui...                 461   \n",
       "Trabalhador familiar não remunerado em ajuda a ...                 195   \n",
       "NaN                                                               9569   \n",
       "Estava fora do mercado de trabalho (fazia apena...                 142   \n",
       "\n",
       "                                                    % positivos  \n",
       "profissão                                                        \n",
       "Plicial militar ou bombeiro mlilitar                      12.88  \n",
       "Militar do exercito, marinha ou aeronáutica                9.84  \n",
       "Empregado do setor público (inclusive empresas ...         8.02  \n",
       "Empregador                                                 6.04  \n",
       "Empregado do setor privado                                 4.77  \n",
       "Conta própria                                              3.11  \n",
       "Trabalhador doméstico (empregado doméstico, cui...          3.1  \n",
       "Trabalhador familiar não remunerado em ajuda a ...         2.84  \n",
       "NaN                                                        2.07  \n",
       "Estava fora do mercado de trabalho (fazia apena...         1.38  "
      ]
     },
     "execution_count": 219,
     "metadata": {},
     "output_type": "execute_result"
    }
   ],
   "source": [
    "df['testou_positivo_covid_num'] = np.where(df['testou_positivo_covid'] == 'Positivo', 1, 0)\n",
    "\n",
    "tab_prof = df.groupby('C007_desc',dropna=False).agg({'UF':'count', 'testou_positivo_covid_num':'sum'}).reset_index()\n",
    "tab_prof = tab_prof.rename(columns={'C007_desc':'profissão', 'UF':'qtd quest', 'testou_positivo_covid_num':'qtd positivo covid'})\n",
    "\n",
    "tab_prof['% positivos'] = round((tab_prof['qtd positivo covid']/tab_prof['qtd quest'])*100, 2)\n",
    "tab_prof.sort_values('% positivos', ascending=False).set_index('profissão')"
   ]
  },
  {
   "cell_type": "markdown",
   "metadata": {},
   "source": [
    "# Home-office"
   ]
  },
  {
   "cell_type": "code",
   "execution_count": 228,
   "metadata": {},
   "outputs": [
    {
     "data": {
      "text/html": [
       "<div>\n",
       "<style scoped>\n",
       "    .dataframe tbody tr th:only-of-type {\n",
       "        vertical-align: middle;\n",
       "    }\n",
       "\n",
       "    .dataframe tbody tr th {\n",
       "        vertical-align: top;\n",
       "    }\n",
       "\n",
       "    .dataframe thead th {\n",
       "        text-align: right;\n",
       "    }\n",
       "</style>\n",
       "<table border=\"1\" class=\"dataframe\">\n",
       "  <thead>\n",
       "    <tr style=\"text-align: right;\">\n",
       "      <th></th>\n",
       "      <th></th>\n",
       "      <th></th>\n",
       "      <th>qtd quest</th>\n",
       "      <th>qtd positivo covid</th>\n",
       "      <th>% positivos</th>\n",
       "    </tr>\n",
       "    <tr>\n",
       "      <th>Ano</th>\n",
       "      <th>mes</th>\n",
       "      <th>home_office</th>\n",
       "      <th></th>\n",
       "      <th></th>\n",
       "      <th></th>\n",
       "    </tr>\n",
       "  </thead>\n",
       "  <tbody>\n",
       "    <tr>\n",
       "      <th rowspan=\"6\" valign=\"top\">2020</th>\n",
       "      <th rowspan=\"3\" valign=\"top\">10</th>\n",
       "      <th>Não</th>\n",
       "      <td>4913</td>\n",
       "      <td>158</td>\n",
       "      <td>3.22</td>\n",
       "    </tr>\n",
       "    <tr>\n",
       "      <th>Sim</th>\n",
       "      <td>11117</td>\n",
       "      <td>473</td>\n",
       "      <td>4.25</td>\n",
       "    </tr>\n",
       "    <tr>\n",
       "      <th>NaN</th>\n",
       "      <td>364431</td>\n",
       "      <td>10320</td>\n",
       "      <td>2.83</td>\n",
       "    </tr>\n",
       "    <tr>\n",
       "      <th rowspan=\"3\" valign=\"top\">11</th>\n",
       "      <th>Não</th>\n",
       "      <td>4818</td>\n",
       "      <td>186</td>\n",
       "      <td>3.86</td>\n",
       "    </tr>\n",
       "    <tr>\n",
       "      <th>Sim</th>\n",
       "      <td>10863</td>\n",
       "      <td>580</td>\n",
       "      <td>5.34</td>\n",
       "    </tr>\n",
       "    <tr>\n",
       "      <th>NaN</th>\n",
       "      <td>365757</td>\n",
       "      <td>11686</td>\n",
       "      <td>3.2</td>\n",
       "    </tr>\n",
       "  </tbody>\n",
       "</table>\n",
       "</div>"
      ],
      "text/plain": [
       "                      qtd quest  qtd positivo covid  % positivos\n",
       "Ano  mes home_office                                            \n",
       "2020 10  Não               4913                 158         3.22\n",
       "         Sim              11117                 473         4.25\n",
       "         NaN             364431               10320         2.83\n",
       "     11  Não               4818                 186         3.86\n",
       "         Sim              10863                 580         5.34\n",
       "         NaN             365757               11686          3.2"
      ]
     },
     "execution_count": 228,
     "metadata": {},
     "output_type": "execute_result"
    }
   ],
   "source": [
    "tab_homeoff = df.groupby(['Ano','mes','C013_desc'],dropna=False).agg({'UF':'count', 'testou_positivo_covid_num':'sum'}).reset_index()\n",
    "tab_homeoff = tab_homeoff.rename(columns={'C013_desc':'home_office', 'UF':'qtd quest', 'testou_positivo_covid_num':'qtd positivo covid'})\n",
    "\n",
    "tab_homeoff['% positivos'] = round((tab_homeoff['qtd positivo covid']/tab_homeoff['qtd quest'])*100, 2)\n",
    "tab_homeoff.sort_values('qtd positivo covid', ascending=False).set_index('home_office')\n",
    "tab_homeoff.set_index(['Ano','mes','home_office'])"
   ]
  },
  {
   "cell_type": "code",
   "execution_count": 226,
   "metadata": {},
   "outputs": [
    {
     "data": {
      "text/plain": [
       "0.047907188353048226"
      ]
     },
     "execution_count": 226,
     "metadata": {},
     "output_type": "execute_result"
    }
   ],
   "source": [
    "1053/21980"
   ]
  },
  {
   "cell_type": "markdown",
   "metadata": {},
   "source": [
    "# Emprestimo na pandemia"
   ]
  },
  {
   "cell_type": "code",
   "execution_count": 229,
   "metadata": {},
   "outputs": [
    {
     "data": {
      "text/plain": [
       "0                                  Não solicitou\n",
       "1                                  Não solicitou\n",
       "2         Sim, e pelo menos um morador conseguiu\n",
       "3                                  Não solicitou\n",
       "4                                  Não solicitou\n",
       "                           ...                  \n",
       "761894                             Não solicitou\n",
       "761895                             Não solicitou\n",
       "761896                             Não solicitou\n",
       "761897                             Não solicitou\n",
       "761898                             Não solicitou\n",
       "Name: E001_desc, Length: 761899, dtype: object"
      ]
     },
     "execution_count": 229,
     "metadata": {},
     "output_type": "execute_result"
    }
   ],
   "source": [
    "df['E001_desc']"
   ]
  },
  {
   "cell_type": "code",
   "execution_count": 230,
   "metadata": {},
   "outputs": [
    {
     "data": {
      "text/html": [
       "<div>\n",
       "<style scoped>\n",
       "    .dataframe tbody tr th:only-of-type {\n",
       "        vertical-align: middle;\n",
       "    }\n",
       "\n",
       "    .dataframe tbody tr th {\n",
       "        vertical-align: top;\n",
       "    }\n",
       "\n",
       "    .dataframe thead th {\n",
       "        text-align: right;\n",
       "    }\n",
       "</style>\n",
       "<table border=\"1\" class=\"dataframe\">\n",
       "  <thead>\n",
       "    <tr style=\"text-align: right;\">\n",
       "      <th></th>\n",
       "      <th></th>\n",
       "      <th></th>\n",
       "      <th>qtd quest</th>\n",
       "      <th>qtd positivo covid</th>\n",
       "      <th>% positivos</th>\n",
       "    </tr>\n",
       "    <tr>\n",
       "      <th>Ano</th>\n",
       "      <th>mes</th>\n",
       "      <th>solicitou emprestimo</th>\n",
       "      <th></th>\n",
       "      <th></th>\n",
       "      <th></th>\n",
       "    </tr>\n",
       "  </thead>\n",
       "  <tbody>\n",
       "    <tr>\n",
       "      <th rowspan=\"6\" valign=\"top\">2020</th>\n",
       "      <th rowspan=\"3\" valign=\"top\">10</th>\n",
       "      <th>Não solicitou</th>\n",
       "      <td>347878</td>\n",
       "      <td>9727</td>\n",
       "      <td>2.8</td>\n",
       "    </tr>\n",
       "    <tr>\n",
       "      <th>Sim, e pelo menos um morador conseguiu</th>\n",
       "      <td>28134</td>\n",
       "      <td>1091</td>\n",
       "      <td>3.88</td>\n",
       "    </tr>\n",
       "    <tr>\n",
       "      <th>Sim, mas nenhum morador conseguiu</th>\n",
       "      <td>4449</td>\n",
       "      <td>133</td>\n",
       "      <td>2.99</td>\n",
       "    </tr>\n",
       "    <tr>\n",
       "      <th rowspan=\"3\" valign=\"top\">11</th>\n",
       "      <th>Não solicitou</th>\n",
       "      <td>346162</td>\n",
       "      <td>10908</td>\n",
       "      <td>3.15</td>\n",
       "    </tr>\n",
       "    <tr>\n",
       "      <th>Sim, e pelo menos um morador conseguiu</th>\n",
       "      <td>30835</td>\n",
       "      <td>1370</td>\n",
       "      <td>4.44</td>\n",
       "    </tr>\n",
       "    <tr>\n",
       "      <th>Sim, mas nenhum morador conseguiu</th>\n",
       "      <td>4441</td>\n",
       "      <td>174</td>\n",
       "      <td>3.92</td>\n",
       "    </tr>\n",
       "  </tbody>\n",
       "</table>\n",
       "</div>"
      ],
      "text/plain": [
       "                                                 qtd quest  \\\n",
       "Ano  mes solicitou emprestimo                                \n",
       "2020 10  Não solicitou                              347878   \n",
       "         Sim, e pelo menos um morador conseguiu      28134   \n",
       "         Sim, mas nenhum morador conseguiu            4449   \n",
       "     11  Não solicitou                              346162   \n",
       "         Sim, e pelo menos um morador conseguiu      30835   \n",
       "         Sim, mas nenhum morador conseguiu            4441   \n",
       "\n",
       "                                                 qtd positivo covid  \\\n",
       "Ano  mes solicitou emprestimo                                         \n",
       "2020 10  Não solicitou                                         9727   \n",
       "         Sim, e pelo menos um morador conseguiu                1091   \n",
       "         Sim, mas nenhum morador conseguiu                      133   \n",
       "     11  Não solicitou                                        10908   \n",
       "         Sim, e pelo menos um morador conseguiu                1370   \n",
       "         Sim, mas nenhum morador conseguiu                      174   \n",
       "\n",
       "                                                 % positivos  \n",
       "Ano  mes solicitou emprestimo                                 \n",
       "2020 10  Não solicitou                                   2.8  \n",
       "         Sim, e pelo menos um morador conseguiu         3.88  \n",
       "         Sim, mas nenhum morador conseguiu              2.99  \n",
       "     11  Não solicitou                                  3.15  \n",
       "         Sim, e pelo menos um morador conseguiu         4.44  \n",
       "         Sim, mas nenhum morador conseguiu              3.92  "
      ]
     },
     "execution_count": 230,
     "metadata": {},
     "output_type": "execute_result"
    }
   ],
   "source": [
    "tab_emp = df.groupby(['Ano','mes','E001_desc'],dropna=False).agg({'UF':'count', 'testou_positivo_covid_num':'sum'}).reset_index()\n",
    "tab_emp = tab_emp.rename(columns={'E001_desc':'solicitou emprestimo', 'UF':'qtd quest', 'testou_positivo_covid_num':'qtd positivo covid'})\n",
    "\n",
    "tab_emp['% positivos'] = round((tab_emp['qtd positivo covid']/tab_emp['qtd quest'])*100, 2)\n",
    "tab_emp.sort_values('qtd positivo covid', ascending=False).set_index('solicitou emprestimo')\n",
    "tab_emp.set_index(['Ano','mes','solicitou emprestimo'])"
   ]
  },
  {
   "cell_type": "code",
   "execution_count": 233,
   "metadata": {},
   "outputs": [
    {
     "name": "stderr",
     "output_type": "stream",
     "text": [
      "/tmp/ipykernel_16241/1363353374.py:3: FutureWarning: The provided callable <function sum at 0x758917594160> is currently using SeriesGroupBy.sum. In a future version of pandas, the provided callable will be used directly. To keep current behavior pass the string \"sum\" instead.\n",
      "  tab['Total on groupToTotal'] = tab.groupby(groupToTotal).qtd_quest.transform(np.sum)\n"
     ]
    },
    {
     "data": {
      "text/html": [
       "<div>\n",
       "<style scoped>\n",
       "    .dataframe tbody tr th:only-of-type {\n",
       "        vertical-align: middle;\n",
       "    }\n",
       "\n",
       "    .dataframe tbody tr th {\n",
       "        vertical-align: top;\n",
       "    }\n",
       "\n",
       "    .dataframe thead th {\n",
       "        text-align: right;\n",
       "    }\n",
       "</style>\n",
       "<table border=\"1\" class=\"dataframe\">\n",
       "  <thead>\n",
       "    <tr style=\"text-align: right;\">\n",
       "      <th></th>\n",
       "      <th></th>\n",
       "      <th>solitou emprestimo na pandemia ?</th>\n",
       "      <th>qtd_quest</th>\n",
       "      <th>qtd_quest_mes</th>\n",
       "      <th>%</th>\n",
       "    </tr>\n",
       "    <tr>\n",
       "      <th>Ano</th>\n",
       "      <th>mes</th>\n",
       "      <th></th>\n",
       "      <th></th>\n",
       "      <th></th>\n",
       "      <th></th>\n",
       "    </tr>\n",
       "  </thead>\n",
       "  <tbody>\n",
       "    <tr>\n",
       "      <th rowspan=\"6\" valign=\"top\">2020</th>\n",
       "      <th>10</th>\n",
       "      <td>Não solicitou</td>\n",
       "      <td>347878</td>\n",
       "      <td>380461</td>\n",
       "      <td>91.44</td>\n",
       "    </tr>\n",
       "    <tr>\n",
       "      <th>10</th>\n",
       "      <td>Sim, e pelo menos um morador conseguiu</td>\n",
       "      <td>28134</td>\n",
       "      <td>380461</td>\n",
       "      <td>7.39</td>\n",
       "    </tr>\n",
       "    <tr>\n",
       "      <th>10</th>\n",
       "      <td>Sim, mas nenhum morador conseguiu</td>\n",
       "      <td>4449</td>\n",
       "      <td>380461</td>\n",
       "      <td>1.17</td>\n",
       "    </tr>\n",
       "    <tr>\n",
       "      <th>11</th>\n",
       "      <td>Não solicitou</td>\n",
       "      <td>346162</td>\n",
       "      <td>381438</td>\n",
       "      <td>90.75</td>\n",
       "    </tr>\n",
       "    <tr>\n",
       "      <th>11</th>\n",
       "      <td>Sim, e pelo menos um morador conseguiu</td>\n",
       "      <td>30835</td>\n",
       "      <td>381438</td>\n",
       "      <td>8.08</td>\n",
       "    </tr>\n",
       "    <tr>\n",
       "      <th>11</th>\n",
       "      <td>Sim, mas nenhum morador conseguiu</td>\n",
       "      <td>4441</td>\n",
       "      <td>381438</td>\n",
       "      <td>1.16</td>\n",
       "    </tr>\n",
       "  </tbody>\n",
       "</table>\n",
       "</div>"
      ],
      "text/plain": [
       "                solitou emprestimo na pandemia ?  qtd_quest  qtd_quest_mes  \\\n",
       "Ano  mes                                                                     \n",
       "2020 10                            Não solicitou     347878         380461   \n",
       "     10   Sim, e pelo menos um morador conseguiu      28134         380461   \n",
       "     10        Sim, mas nenhum morador conseguiu       4449         380461   \n",
       "     11                            Não solicitou     346162         381438   \n",
       "     11   Sim, e pelo menos um morador conseguiu      30835         381438   \n",
       "     11        Sim, mas nenhum morador conseguiu       4441         381438   \n",
       "\n",
       "              %  \n",
       "Ano  mes         \n",
       "2020 10   91.44  \n",
       "     10    7.39  \n",
       "     10    1.17  \n",
       "     11   90.75  \n",
       "     11    8.08  \n",
       "     11    1.16  "
      ]
     },
     "execution_count": 233,
     "metadata": {},
     "output_type": "execute_result"
    }
   ],
   "source": [
    "tab_emp2 = table_porc(df=df, groupBy=['Ano','mes','E001_desc'], groupToTotal=['Ano','mes']).reset_index()\n",
    "tab_emp2.rename(columns={'E001_desc':'solitou emprestimo na pandemia ?', 'Total on groupToTotal':'qtd_quest_mes'}).set_index(['Ano','mes'])"
   ]
  }
 ],
 "metadata": {
  "kernelspec": {
   "display_name": "venv_pos_tech",
   "language": "python",
   "name": "python3"
  },
  "language_info": {
   "codemirror_mode": {
    "name": "ipython",
    "version": 3
   },
   "file_extension": ".py",
   "mimetype": "text/x-python",
   "name": "python",
   "nbconvert_exporter": "python",
   "pygments_lexer": "ipython3",
   "version": "3.10.12"
  }
 },
 "nbformat": 4,
 "nbformat_minor": 2
}

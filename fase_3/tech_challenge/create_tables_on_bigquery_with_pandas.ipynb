{
 "cells": [
  {
   "cell_type": "markdown",
   "metadata": {},
   "source": [
    "# Set-up"
   ]
  },
  {
   "cell_type": "code",
   "execution_count": 9,
   "metadata": {},
   "outputs": [],
   "source": [
    "from google.cloud import bigquery\n",
    "from google.oauth2 import service_account\n",
    "\n",
    "import pandas as pd\n",
    "import pandas_gbq\n",
    "import os\n",
    "from datetime import datetime as dt"
   ]
  },
  {
   "cell_type": "code",
   "execution_count": 10,
   "metadata": {},
   "outputs": [],
   "source": [
    "# Parametros para a criação da tabela\n",
    "project_id='pos-tech-project'\n",
    "dataset='pnad'\n",
    "table_name='pnad-covid'\n",
    "parametro='append'#'replace'"
   ]
  },
  {
   "cell_type": "code",
   "execution_count": 11,
   "metadata": {},
   "outputs": [],
   "source": [
    "# Objetivo com as credenciais\n",
    "credentials = service_account.Credentials.from_service_account_file(\n",
    "    filename='credentials_gcp_postech_v4.json',\n",
    "    scopes=['https://www.googleapis.com/auth/bigquery']\n",
    ")"
   ]
  },
  {
   "cell_type": "markdown",
   "metadata": {},
   "source": [
    "# Criando o Pandas dataframe"
   ]
  },
  {
   "cell_type": "code",
   "execution_count": 12,
   "metadata": {},
   "outputs": [],
   "source": [
    "# Lista de CSV's\n",
    "ls_files_csv = ['dados/'+file for file in os.listdir('dados/') if file.endswith(\".csv\")]"
   ]
  },
  {
   "cell_type": "code",
   "execution_count": 13,
   "metadata": {},
   "outputs": [
    {
     "data": {
      "text/plain": [
       "7"
      ]
     },
     "execution_count": 13,
     "metadata": {},
     "output_type": "execute_result"
    }
   ],
   "source": [
    "int(ls_files_csv[0].split('_')[2][:2])"
   ]
  },
  {
   "cell_type": "code",
   "execution_count": 14,
   "metadata": {},
   "outputs": [],
   "source": [
    "## Demanda muita mémoria, a alternativa é carregar um csv por vez no BigQuery\n",
    "# df = pd.DataFrame([])\n",
    "\n",
    "# for f in ls_files_csv:\n",
    "#     print(f\"Iniciando o processo do arquivo '{f}':\", dt.now())\n",
    "#     mes = int(f.split('_')[2][:2]) # Extraindo o número do mês do nome do arquivo \n",
    "#     df_aux = pd.read_csv(f, sep=',') # Lendo o arquivo\n",
    "#     df_aux.insert(loc=1, column='mes', value=mes, allow_duplicates=True) # Criando a coluna mes\n",
    "#     df = pd.concat([df, df_aux]) # Apendando no df "
   ]
  },
  {
   "cell_type": "markdown",
   "metadata": {},
   "source": [
    "# Criando tabela no BigQuery"
   ]
  },
  {
   "cell_type": "code",
   "execution_count": 15,
   "metadata": {},
   "outputs": [
    {
     "name": "stdout",
     "output_type": "stream",
     "text": [
      "Iniciando o processo do arquivo 'dados/PNAD_COVID_072020.csv': 2024-03-13 20:52:57.623154\n"
     ]
    },
    {
     "name": "stdout",
     "output_type": "stream",
     "text": [
      "Iniciando o processo do arquivo 'dados/PNAD_COVID_062020.csv': 2024-03-13 20:53:35.597736\n",
      "Iniciando o processo do arquivo 'dados/PNAD_COVID_092020.csv': 2024-03-13 20:54:03.042173\n",
      "Iniciando o processo do arquivo 'dados/PNAD_COVID_082020.csv': 2024-03-13 20:54:30.945879\n",
      "Iniciando o processo do arquivo 'dados/PNAD_COVID_052020.csv': 2024-03-13 20:55:05.458895\n",
      "Iniciando o processo do arquivo 'dados/PNAD_COVID_112020.csv': 2024-03-13 20:55:27.771897\n",
      "Iniciando o processo do arquivo 'dados/PNAD_COVID_102020.csv': 2024-03-13 20:56:00.078883\n"
     ]
    }
   ],
   "source": [
    "for f in ls_files_csv:\n",
    "    print(f\"Iniciando o processo do arquivo '{f}':\", dt.now())\n",
    "    period = f.split('_')[2][:6] # Extraindo o número do mês do nome do arquivo \n",
    "    df_aux = pd.read_csv(f, sep=',') # Lendo o arquivo\n",
    "    df_aux.insert(loc=1, column='mes', value=int(period[:2]), allow_duplicates=True) # Criando a coluna mes\n",
    "\n",
    "    # Criando uma tabela no BigQuery a partir de um pandas dataframe\n",
    "    pandas_gbq.to_gbq(\n",
    "        dataframe=df_aux,\n",
    "        destination_table=f\"{project_id}.{dataset}.{table_name}-{period}\",\n",
    "        project_id=project_id,\n",
    "        credentials=credentials,\n",
    "        if_exists=parametro \n",
    "    )"
   ]
  }
 ],
 "metadata": {
  "kernelspec": {
   "display_name": "venv_pos_tech",
   "language": "python",
   "name": "python3"
  },
  "language_info": {
   "codemirror_mode": {
    "name": "ipython",
    "version": 3
   },
   "file_extension": ".py",
   "mimetype": "text/x-python",
   "name": "python",
   "nbconvert_exporter": "python",
   "pygments_lexer": "ipython3",
   "version": "3.10.12"
  }
 },
 "nbformat": 4,
 "nbformat_minor": 2
}
